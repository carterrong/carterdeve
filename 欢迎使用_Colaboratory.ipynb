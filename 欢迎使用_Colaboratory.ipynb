{
  "nbformat": 4,
  "nbformat_minor": 0,
  "metadata": {
    "colab": {
      "name": "欢迎使用 Colaboratory",
      "provenance": [],
      "collapsed_sections": [],
      "include_colab_link": true
    },
    "kernelspec": {
      "display_name": "Python 3",
      "name": "python3"
    }
  },
  "cells": [
    {
      "cell_type": "markdown",
      "metadata": {
        "id": "view-in-github",
        "colab_type": "text"
      },
      "source": [
        "<a href=\"https://colab.research.google.com/github/carterrong/carterdeve/blob/master/%E6%AC%A2%E8%BF%8E%E4%BD%BF%E7%94%A8_Colaboratory.ipynb\" target=\"_parent\"><img src=\"https://colab.research.google.com/assets/colab-badge.svg\" alt=\"Open In Colab\"/></a>"
      ]
    },
    {
      "cell_type": "markdown",
      "metadata": {
        "colab_type": "text",
        "id": "5fCEDCU_qrC0"
      },
      "source": [
        "<p><img alt=\"Colaboratory logo\" height=\"45px\" src=\"/img/colab_favicon.ico\" align=\"left\" hspace=\"10px\" vspace=\"0px\"></p>\n",
        "\n",
        "<h1>欢迎使用 Colaboratory！</h1>\n",
        "\n",
        "\n",
        "Colaboratory 是一个免费的 Jupyter 笔记本环境，不需要进行任何设置就可以使用，并且完全在云端运行。\n",
        "\n",
        "借助 Colaboratory，您可以编写和执行代码、保存和共享分析结果，以及利用强大的计算资源，所有这些都可通过浏览器免费使用。"
      ]
    },
    {
      "cell_type": "code",
      "metadata": {
        "colab_type": "code",
        "id": "xitplqMNk_Hc",
        "outputId": "ed4f60d2-878d-4056-c438-352dac39a112",
        "colab": {
          "height": 420
        }
      },
      "source": [
        "#@title Colaboratory 简介 { display-mode: \"form\" }\n",
        "#@markdown 下面这个时长 3 分钟的视频概述了 Colaboratory 的主要功能：\n",
        "from IPython.display import YouTubeVideo\n",
        "YouTubeVideo('inN8seMm7UI', width=600, height=400)"
      ],
      "execution_count": 0,
      "outputs": [
        {
          "output_type": "execute_result",
          "data": {
            "text/html": [
              "\n",
              "        <iframe\n",
              "            width=\"600\"\n",
              "            height=\"400\"\n",
              "            src=\"https://www.youtube.com/embed/inN8seMm7UI\"\n",
              "            frameborder=\"0\"\n",
              "            allowfullscreen\n",
              "        ></iframe>\n",
              "        "
            ],
            "text/plain": [
              "<IPython.lib.display.YouTubeVideo at 0x7f956e9dda50>"
            ]
          },
          "metadata": {
            "tags": []
          },
          "execution_count": 0
        }
      ]
    },
    {
      "cell_type": "markdown",
      "metadata": {
        "colab_type": "text",
        "id": "GJBs_flRovLc"
      },
      "source": [
        "## 使用入门\n",
        "\n",
        "您正在阅读的文档是托管在 Colaboratory 中的 <a href=\"https://jupyter.org/\">Jupyter 笔记本</a>。它并非静态页面，而是一个可让您以 Python 和其他语言编写和执行代码的互动环境。\n",
        "\n",
        "例如，以下<strong>代码单元格</strong>包含一个简短的 Python 脚本，该脚本会计算值、将其存储在变量中并输出结果："
      ]
    },
    {
      "cell_type": "code",
      "metadata": {
        "colab_type": "code",
        "id": "gJr_9dXGpJ05",
        "outputId": "5626194c-e802-4293-942d-2908885c3c1f",
        "colab": {
          "height": 35
        }
      },
      "source": [
        "seconds_in_a_day = 24 * 60 * 60\n",
        "seconds_in_a_day"
      ],
      "execution_count": 0,
      "outputs": [
        {
          "output_type": "execute_result",
          "data": {
            "text/plain": [
              "86400"
            ]
          },
          "metadata": {
            "tags": []
          },
          "execution_count": 0
        }
      ]
    },
    {
      "cell_type": "markdown",
      "metadata": {
        "colab_type": "text",
        "id": "2fhs6GZ4qFMx"
      },
      "source": [
        "要执行上述单元格中的代码，请点击选择它，然后按代码左侧的“播放”按钮，或使用键盘快捷键“Command/Ctrl+Enter”。\n",
        "\n",
        "所有单元格都会修改同一全局状态，因此您通过执行某个单元格定义的变量可用在其他单元格中："
      ]
    },
    {
      "cell_type": "code",
      "metadata": {
        "colab_type": "code",
        "id": "-gE-Ez1qtyIA",
        "outputId": "8d2e4259-4682-4e19-b683-7b9087f28820",
        "colab": {
          "height": 35
        }
      },
      "source": [
        "seconds_in_a_week = 7 * seconds_in_a_day\n",
        "seconds_in_a_week"
      ],
      "execution_count": 0,
      "outputs": [
        {
          "output_type": "execute_result",
          "data": {
            "text/plain": [
              "604800"
            ]
          },
          "metadata": {
            "tags": []
          },
          "execution_count": 0
        }
      ]
    },
    {
      "cell_type": "markdown",
      "metadata": {
        "colab_type": "text",
        "id": "lSrWNr3MuFUS"
      },
      "source": [
        "要详细了解如何使用 Colaboratory 笔记本，请参阅 <a href=\"/notebooks/basic_features_overview.ipynb\">Colaboratory 概览</a>。\n"
      ]
    },
    {
      "cell_type": "markdown",
      "metadata": {
        "colab_type": "text",
        "id": "-Rh3-Vt9Nev9"
      },
      "source": [
        "## 更多资源\n",
        "\n",
        "要了解如何充分利用 Python、Jupyter、Colaboratory 和相关工具，请参阅以下资源：\n",
        "\n",
        "### 在 Colaboratory 中使用笔记本\n",
        "- [Colaboratory 概览](/notebooks/basic_features_overview.ipynb)\n",
        "- [Markdown 指南](/notebooks/markdown_guide.ipynb)\n",
        "- [导入库和安装依赖项](/notebooks/snippets/importing_libraries.ipynb)\n",
        "- [在 GitHub 中保存和加载笔记本](https://colab.research.google.com/github/googlecolab/colabtools/blob/master/notebooks/colab-github-demo.ipynb)\n",
        "- [互动表单](/notebooks/forms.ipynb)\n",
        "- [互动微件](/notebooks/widgets.ipynb)\n",
        "- <img src=\"/img/new.png\" height=\"20px\" align=\"left\" hspace=\"4px\" alt=\"New\"></img>\n",
        " [在 Colab 中使用 TensorFlow 2](/notebooks/tensorflow_version.ipynb)\n",
        "\n",
        "### 处理数据\n",
        "- [加载数据：云端硬盘、表格和 Google Cloud Storage](/notebooks/io.ipynb) \n",
        "- [图表：可视化数据](/notebooks/charts.ipynb)\n",
        "- [BigQuery 使用入门](/notebooks/bigquery.ipynb)\n",
        "\n",
        "### 机器学习速成课程\n",
        "以下是可以在 Google 的在线机器学习课程中找到的部分笔记本。请查看<a href=\"https://developers.google.com/machine-learning/crash-course/\">完整课程网站</a>了解详情。\n",
        "- [Pandas 简介](/notebooks/mlcc/intro_to_pandas.ipynb)\n",
        "- [Tensorflow 概念](/notebooks/mlcc/tensorflow_programming_concepts.ipynb)\n",
        "- [使用 TensorFlow 的起始步骤](/notebooks/mlcc/first_steps_with_tensor_flow.ipynb)\n",
        "- [神经网络简介](/notebooks/mlcc/intro_to_neural_nets.ipynb)\n",
        "- [稀疏数据和嵌入简介](/notebooks/mlcc/intro_to_sparse_data_and_embeddings.ipynb)\n",
        "\n",
        "### 使用加速硬件\n",
        "- [将 TensorFlow 与 GPU 配合使用](/notebooks/gpu.ipynb)\n",
        "- [将 TensorFlow 与 TPU 配合使用](/notebooks/tpu.ipynb)"
      ]
    },
    {
      "cell_type": "markdown",
      "metadata": {
        "colab_type": "text",
        "id": "P-H6Lw1vyNNd"
      },
      "source": [
        "## 机器学习示例：Seedbank\n",
        "\n",
        "要查看 Colaboratory 实现的互动机器学习分析的端到端示例，请查看 <a href=\"https://research.google.com/seedbank/\">Seedbank</a> 项目。\n",
        "\n",
        "一些精选示例：\n",
        "\n",
        "- <a href=\"https://research.google.com/seedbank/seed/neural_style_transfer_with_tfkeras\">神经风格迁移</a>：使用深度学习在图像之间迁移风格。\n",
        "- <a href=\"https://research.google.com/seedbank/seed/ez_nsynth\">EZ NSynth</a>：使用 WaveNet 自动编码器合成音频。\n",
        "- <a href=\"https://research.google.com/seedbank/seed/fashion_mnist_with_keras_and_tpus\">Fashion MNIST 与 Keras 和 TPU</a>：使用深度学习对时装图像进行分类。\n",
        "- <a href=\"https://research.google.com/seedbank/seed/deepdream\">DeepDream</a>：根据您自己的照片生成 DeepDream 图像。\n",
        "- <a href=\"https://research.google.com/seedbank/seed/convolutional_vae\">卷积 VAE</a>：创建手写数字生成模型。"
      ]
    },
    {
      "cell_type": "code",
      "metadata": {
        "id": "PrkeVamR0PBC",
        "colab_type": "code",
        "colab": {
          "base_uri": "https://localhost:8080/",
          "height": 463
        },
        "outputId": "02daf6f6-7702-4a03-ded9-7ccb3de12257"
      },
      "source": [
        "import tensorflow as tf\n",
        "import matplotlib.pyplot as plt\n",
        "\n",
        "tf.__version__\n",
        "# Loading the dataset for the Digits OCR\n",
        "mnist = tf.keras.datasets.mnist\n",
        "(X_train, y_train), (X_test, y_test) = mnist.load_data()\n",
        "\n",
        "print(\"Training data\")\n",
        "print(len(X_train))\n",
        "print(X_train.shape)\n",
        "\n",
        "print(len(y_train))\n",
        "print(y_train.shape)\n",
        "\n",
        "print(\"Testing Data\")\n",
        "print(len(X_test))\n",
        "print(X_test.shape)\n",
        "\n",
        "print(len(y_test))\n",
        "print(y_test.shape)\n",
        "X_train[3]\n",
        "y_train[3]\n",
        "index =35\n",
        "pred = X_train[index]\n",
        "pred = pred.reshape([28,28]);\n",
        "plt.gray()\n",
        "plt.imshow(pred)\n",
        "plt.show()\n",
        "print (\"Tagged digit:\", y_train[index])\n",
        "\n"
      ],
      "execution_count": 15,
      "outputs": [
        {
          "output_type": "stream",
          "text": [
            "Training data\n",
            "60000\n",
            "(60000, 28, 28)\n",
            "60000\n",
            "(60000,)\n",
            "Testing Data\n",
            "10000\n",
            "(10000, 28, 28)\n",
            "10000\n",
            "(10000,)\n"
          ],
          "name": "stdout"
        },
        {
          "output_type": "display_data",
          "data": {
            "image/png": "[encoded data removed]",
            "text/plain": [
              "<Figure size 432x288 with 1 Axes>"
            ]
          },
          "metadata": {
            "tags": []
          }
        },
        {
          "output_type": "stream",
          "text": [
            "Tagged digit: 5\n"
          ],
          "name": "stdout"
        }
      ]
    },
    {
      "cell_type": "code",
      "metadata": {
        "id": "Yz0oUXa572vn",
        "colab_type": "code",
        "colab": {
          "base_uri": "https://localhost:8080/",
          "height": 589
        },
        "outputId": "c22a5d67-c618-4f83-cd83-fa011c88a33f"
      },
      "source": [
        "    #Scale the values by 255, so it is between 0 to 1\n",
        "    X_train_scale = X_train / 255.0\n",
        "    X_test_scale = X_test / 255.0\n",
        "\n",
        "    #Show the first 25 data in the training set\n",
        "    plt.figure(figsize=(10,10))\n",
        "    for i in range(25):\n",
        "        plt.subplot(5,5,i+1)\n",
        "        plt.xticks([])\n",
        "        plt.yticks([])\n",
        "        plt.grid(False)\n",
        "        plt.imshow(X_train_scale[i], cmap=plt.cm.binary)\n",
        "        plt.xlabel(y_train[i])\n",
        "    plt.show()"
      ],
      "execution_count": 16,
      "outputs": [
        {
          "output_type": "display_data",
          "data": {
            "image/png": "[encoded data removed]",
            "text/plain": [
              "<Figure size 720x720 with 25 Axes>"
            ]
          },
          "metadata": {
            "tags": []
          }
        }
      ]
    },
    {
      "cell_type": "code",
      "metadata": {
        "id": "tJ3l6UxC8QBX",
        "colab_type": "code",
        "colab": {
          "base_uri": "https://localhost:8080/",
          "height": 1000
        },
        "outputId": "0d6632b9-2b35-4e3b-dd4c-ccfd0ad83898"
      },
      "source": [
        "    #The NN layer setting\n",
        "    #n_input = 784  # input layer (28x28 pixels)\n",
        "    #n_hidden1 = 512  # 1st hidden layer\n",
        "    #n_hidden2 = 256  # 2nd hidden layer\n",
        "    #n_hidden3 = 128  # 3rd hidden layer\n",
        "    #n_output = 10  # output layer (0-9 digits)\n",
        "    #learning_rate = 1e-4\n",
        "    #n_iterations = 1000\n",
        "    #batch_size = 128\n",
        "    #dropout = 0.5\n",
        "\n",
        "    #setup the model for training\n",
        "    from tensorflow import keras\n",
        "    model = keras.Sequential([\n",
        "        # transforms the format of the images from a 2d-array (of 28 by 28 pixels), to a 1d-array of 28 * 28 = 784 pixels.  No parameters to train\n",
        "        keras.layers.Flatten(input_shape=(28, 28)),\n",
        "        # 1st hidden layer\n",
        "        keras.layers.Dense(32, activation=tf.nn.relu),\n",
        "        # 2nd hidden layer\n",
        "       keras.layers.Dense(16, activation=tf.nn.relu),\n",
        "        # this returns an array of 10 probability scores that sum to 1. Each node contains a score that indicates the probability that the current image belongs to one of the 10 classes.\n",
        "        keras.layers.Dense(10, activation=tf.nn.softmax)\n",
        "    ])\n",
        "\n",
        "    model.compile(optimizer='adam',\n",
        "                loss='sparse_categorical_crossentropy',\n",
        "                metrics=['accuracy']  )\n",
        "\n",
        "    model.summary()\n",
        "    history = model.fit(X_train_scale, y_train, epochs=20)\n"
      ],
      "execution_count": 19,
      "outputs": [
        {
          "output_type": "stream",
          "text": [
            "Model: \"sequential_1\"\n",
            "_________________________________________________________________\n",
            "Layer (type)                 Output Shape              Param #   \n",
            "=================================================================\n",
            "flatten_1 (Flatten)          (None, 784)               0         \n",
            "_________________________________________________________________\n",
            "dense_3 (Dense)              (None, 32)                25120     \n",
            "_________________________________________________________________\n",
            "dense_4 (Dense)              (None, 16)                528       \n",
            "_________________________________________________________________\n",
            "dense_5 (Dense)              (None, 10)                170       \n",
            "=================================================================\n",
            "Total params: 25,818\n",
            "Trainable params: 25,818\n",
            "Non-trainable params: 0\n",
            "_________________________________________________________________\n",
            "Train on 60000 samples\n",
            "Epoch 1/20\n",
            "60000/60000 [==============================] - 4s 63us/sample - loss: 0.3739 - acc: 0.8924\n",
            "Epoch 2/20\n",
            "60000/60000 [==============================] - 3s 57us/sample - loss: 0.1849 - acc: 0.9454\n",
            "Epoch 3/20\n",
            "60000/60000 [==============================] - 3s 56us/sample - loss: 0.1463 - acc: 0.9564\n",
            "Epoch 4/20\n",
            "60000/60000 [==============================] - 3s 56us/sample - loss: 0.1251 - acc: 0.9626\n",
            "Epoch 5/20\n",
            "60000/60000 [==============================] - 3s 56us/sample - loss: 0.1103 - acc: 0.9668\n",
            "Epoch 6/20\n",
            "60000/60000 [==============================] - 3s 56us/sample - loss: 0.0982 - acc: 0.9703\n",
            "Epoch 7/20\n",
            "60000/60000 [==============================] - 3s 55us/sample - loss: 0.0907 - acc: 0.9719\n",
            "Epoch 8/20\n",
            "60000/60000 [==============================] - 3s 55us/sample - loss: 0.0827 - acc: 0.9747\n",
            "Epoch 9/20\n",
            "60000/60000 [==============================] - 3s 56us/sample - loss: 0.0756 - acc: 0.9766\n",
            "Epoch 10/20\n",
            "60000/60000 [==============================] - 3s 56us/sample - loss: 0.0706 - acc: 0.9782\n",
            "Epoch 11/20\n",
            "60000/60000 [==============================] - 3s 56us/sample - loss: 0.0661 - acc: 0.9792\n",
            "Epoch 12/20\n",
            "60000/60000 [==============================] - 3s 56us/sample - loss: 0.0613 - acc: 0.9806\n",
            "Epoch 13/20\n",
            "60000/60000 [==============================] - 3s 56us/sample - loss: 0.0586 - acc: 0.9814\n",
            "Epoch 14/20\n",
            "60000/60000 [==============================] - 3s 56us/sample - loss: 0.0547 - acc: 0.9824\n",
            "Epoch 15/20\n",
            "60000/60000 [==============================] - 3s 56us/sample - loss: 0.0509 - acc: 0.9836\n",
            "Epoch 16/20\n",
            "60000/60000 [==============================] - 3s 56us/sample - loss: 0.0499 - acc: 0.9836\n",
            "Epoch 17/20\n",
            "60000/60000 [==============================] - 3s 57us/sample - loss: 0.0466 - acc: 0.9847\n",
            "Epoch 18/20\n",
            "60000/60000 [==============================] - 3s 56us/sample - loss: 0.0439 - acc: 0.9854\n",
            "Epoch 19/20\n",
            "60000/60000 [==============================] - 3s 56us/sample - loss: 0.0414 - acc: 0.9864\n",
            "Epoch 20/20\n",
            "60000/60000 [==============================] - 3s 56us/sample - loss: 0.0387 - acc: 0.9873\n"
          ],
          "name": "stdout"
        }
      ]
    },
    {
      "cell_type": "code",
      "metadata": {
        "id": "cMCdBaub9ZNn",
        "colab_type": "code",
        "colab": {
          "base_uri": "https://localhost:8080/",
          "height": 53
        },
        "outputId": "1b888ce3-faf7-430b-a573-9dacd8dd0210"
      },
      "source": [
        "    test_loss, test_acc = model.evaluate(X_test_scale, y_test)\n",
        "    print('Test accuracy:', test_acc)"
      ],
      "execution_count": 20,
      "outputs": [
        {
          "output_type": "stream",
          "text": [
            "10000/10000 [==============================] - 0s 30us/sample - loss: 0.1448 - acc: 0.9642\n",
            "Test accuracy: 0.9642\n"
          ],
          "name": "stdout"
        }
      ]
    },
    {
      "cell_type": "code",
      "metadata": {
        "id": "oImfMzhe-F7j",
        "colab_type": "code",
        "colab": {
          "base_uri": "https://localhost:8080/",
          "height": 251
        },
        "outputId": "92131300-f344-4063-edcf-54fb778eba46"
      },
      "source": [
        " predictions = model.predict(X_test_scale)\n",
        " print(predictions)"
      ],
      "execution_count": 22,
      "outputs": [
        {
          "output_type": "stream",
          "text": [
            "[[1.0079915e-09 1.6042655e-13 1.1252988e-08 ... 9.9636275e-01\n",
            "  1.4693679e-06 3.2441836e-04]\n",
            " [1.1758618e-10 1.6287640e-08 1.0000000e+00 ... 3.4060092e-13\n",
            "  1.4032722e-10 2.8471570e-17]\n",
            " [1.0929573e-05 9.9907589e-01 1.6102345e-04 ... 4.6903014e-04\n",
            "  7.8592806e-05 1.5530820e-04]\n",
            " ...\n",
            " [7.2762346e-14 1.1415373e-14 2.4839539e-17 ... 5.5764180e-09\n",
            "  2.8629304e-10 2.3589341e-06]\n",
            " [6.3452485e-14 3.6043363e-17 9.2335266e-19 ... 2.7354542e-12\n",
            "  1.9644195e-07 3.3922555e-14]\n",
            " [5.3670034e-18 1.0138398e-14 4.7977623e-15 ... 2.9156577e-22\n",
            "  2.3662901e-17 2.2583090e-17]]\n"
          ],
          "name": "stdout"
        }
      ]
    },
    {
      "cell_type": "code",
      "metadata": {
        "id": "HKrDWZ-O-pfG",
        "colab_type": "code",
        "colab": {
          "base_uri": "https://localhost:8080/",
          "height": 589
        },
        "outputId": "c57c8550-3f98-430f-88ba-bf6275cb322c"
      },
      "source": [
        "    import numpy as np\n",
        "    # Routines to help to plot the data\n",
        "    def plot_image(i, predictions_array, true_label, img):\n",
        "        predictions_array, true_label, img = predictions_array[i], true_label[i], img[i]\n",
        "        plt.grid(False)\n",
        "        plt.xticks([])\n",
        "        plt.yticks([])\n",
        "\n",
        "        plt.imshow(img, cmap=plt.cm.binary)\n",
        "\n",
        "        predicted_label = np.argmax(predictions_array)\n",
        "        if predicted_label == true_label:\n",
        "            color = 'blue'\n",
        "        else:\n",
        "            color = 'red'\n",
        "\n",
        "        plt.xlabel(\"I:{} \" \"{} {:2.0f}% ({})\".format(i, predicted_label,\n",
        "                                    100*np.max(predictions_array),\n",
        "                                    true_label),\n",
        "                                    color=color)\n",
        "\n",
        "    def plot_value_array(i,  predictions_array, true_label):\n",
        "        predictions_array, true_label = predictions_array[i], true_label[i]\n",
        "        plt.grid(False)\n",
        "        plt.xticks([0,1,2,3,4,5,6,7,8,9])\n",
        "        plt.yticks([0,0.5,1])\n",
        "        thisplot = plt.bar(range(10), predictions_array, color=\"#777777\")\n",
        "        plt.ylim([0, 1])\n",
        "        predicted_label = np.argmax(predictions_array)\n",
        "\n",
        "        thisplot[predicted_label].set_color('red')\n",
        "        thisplot[true_label].set_color('blue')\n",
        "\n",
        "    ##########################################\n",
        "\n",
        "    #Show25 data in the test set\n",
        "    offset = 2000\n",
        "\n",
        "    plt.figure(figsize=(10,10))\n",
        "    # for i in range(25):\n",
        "    for i in range(36):\n",
        "        plt.subplot(6,6,i+1)\n",
        "        plot_image(i+offset, predictions, y_test, X_test_scale)\n",
        "\n",
        "    plt.show()"
      ],
      "execution_count": 23,
      "outputs": [
        {
          "output_type": "display_data",
          "data": {
            "image/png": "[encoded data removed]",
            "text/plain": [
              "<Figure size 720x720 with 36 Axes>"
            ]
          },
          "metadata": {
            "tags": []
          }
        }
      ]
    },
    {
      "cell_type": "code",
      "metadata": {
        "id": "Zol40cSR_X_w",
        "colab_type": "code",
        "colab": {
          "base_uri": "https://localhost:8080/",
          "height": 611
        },
        "outputId": "5f44352e-2f4c-475d-92a3-0aed390d501c"
      },
      "source": [
        "    ## some interesting dataset to see 2004, 2024,   2043,   \n",
        "    i = 2004\n",
        "    plt.figure(figsize=(6,3))\n",
        "    plt.subplot(1,2,1)\n",
        "    plot_image(i, predictions, y_test, X_test_scale)\n",
        "    plt.subplot(1,2,2)\n",
        "    plot_value_array(i, predictions,  y_test)\n",
        "    plt.show()\n",
        "\n",
        "    i = 2018\n",
        "    plt.figure(figsize=(6,3))\n",
        "    plt.subplot(1,2,1)\n",
        "    plot_image(i, predictions, y_test, X_test_scale)\n",
        "    plt.subplot(1,2,2)\n",
        "    plot_value_array(i, predictions,  y_test)\n",
        "    plt.show()\n",
        "\n",
        "    i = 2043\n",
        "    plt.figure(figsize=(6,3))\n",
        "    plt.subplot(1,2,1)\n",
        "    plot_image(i, predictions, y_test, X_test_scale)\n",
        "    plt.subplot(1,2,2)\n",
        "    plot_value_array(i, predictions,  y_test)\n",
        "    plt.show()"
      ],
      "execution_count": 24,
      "outputs": [
        {
          "output_type": "display_data",
          "data": {
            "image/png": "[encoded data removed]",
            "text/plain": [
              "<Figure size 432x216 with 2 Axes>"
            ]
          },
          "metadata": {
            "tags": []
          }
        },
        {
          "output_type": "display_data",
          "data": {
            "image/png": "[encoded data removed]",
            "text/plain": [
              "<Figure size 432x216 with 2 Axes>"
            ]
          },
          "metadata": {
            "tags": []
          }
        },
        {
          "output_type": "display_data",
          "data": {
            "image/png": "[encoded data removed]",
            "text/plain": [
              "<Figure size 432x216 with 2 Axes>"
            ]
          },
          "metadata": {
            "tags": []
          }
        }
      ]
    },
    {
      "cell_type": "code",
      "metadata": {
        "id": "cWnwMfJL_twV",
        "colab_type": "code",
        "colab": {}
      },
      "source": [
        "model.save('my_model001.h5')"
      ],
      "execution_count": 0,
      "outputs": []
    }
  ]
}